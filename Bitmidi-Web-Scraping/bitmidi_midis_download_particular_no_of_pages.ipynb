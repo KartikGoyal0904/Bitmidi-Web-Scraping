{
 "cells": [
  {
   "cell_type": "code",
   "execution_count": 11,
   "id": "5c030770",
   "metadata": {},
   "outputs": [],
   "source": [
    "import requests\n",
    "from bs4 import BeautifulSoup\n",
    "from selenium import webdriver\n",
    "from selenium.webdriver.chrome.service import Service\n",
    "from selenium.webdriver.common.by import By\n",
    "from selenium.webdriver.common.keys import Keys\n",
    "import os \n",
    "import time\n",
    "chromedriver_path = \"/home/appsmartz/Downloads/chromedriver-linux64/chromedriver\"\n",
    "    \n",
    "    # Use Service instead of executable_path\n",
    "s = Service(chromedriver_path)\n",
    "    \n",
    "    # Initialize WebDriver\n",
    "driver = webdriver.Chrome(service=s)"
   ]
  },
  {
   "cell_type": "code",
   "execution_count": 12,
   "id": "5f8cf7e8",
   "metadata": {},
   "outputs": [],
   "source": [
    "#Function to reach to the website and parse html\n",
    "def web(url):\n",
    "    driver.get(url)\n",
    "    soup=BeautifulSoup(driver.page_source,'html.parser')\n",
    "    return soup\n",
    "#parse html and extract all links\n",
    "def htm(Html_code):\n",
    "    li=[]\n",
    "    actual_links=[]\n",
    "    a_tags=Html_code.find_all(\"article\",class_=\"relative br2 mv3 mv3-m mv4-l shadow-6\")\n",
    "    for i in a_tags:\n",
    "        li.append(i.find(\"a\")[\"href\"])\n",
    "    for i in li:\n",
    "        actual_links.append(os.path.join(\"https://bitmidi.com\",i[1:]))\n",
    "    return actual_links\n",
    "#function to go to the pages and download the midi files\n",
    "\n",
    "def download(lis):\n",
    "    for i in lis:\n",
    "        driver.get(i)\n",
    "        time.sleep(2)\n",
    "        driver.find_element(By.XPATH,\"/html/body/div/div/main/div[1]/div[4]/div[2]/p/a\").click()\n",
    "        time.sleep(2)\n",
    "        "
   ]
  },
  {
   "cell_type": "code",
   "execution_count": null,
   "id": "7a3c5a8c",
   "metadata": {},
   "outputs": [
    {
     "ename": "ValueError",
     "evalue": "invalid literal for int() with base 10: ''",
     "output_type": "error",
     "traceback": [
      "\u001b[0;31m---------------------------------------------------------------------------\u001b[0m",
      "\u001b[0;31mValueError\u001b[0m                                Traceback (most recent call last)",
      "Cell \u001b[0;32mIn[4], line 1\u001b[0m\n\u001b[0;32m----> 1\u001b[0m n\u001b[38;5;241m=\u001b[39m\u001b[38;5;28;43mint\u001b[39;49m\u001b[43m(\u001b[49m\u001b[38;5;28;43minput\u001b[39;49m\u001b[43m(\u001b[49m\u001b[38;5;124;43m\"\u001b[39;49m\u001b[38;5;124;43mEnter number of pages for bitmidi\u001b[39;49m\u001b[38;5;124;43m\"\u001b[39;49m\u001b[43m)\u001b[49m\u001b[43m)\u001b[49m\n",
      "\u001b[0;31mValueError\u001b[0m: invalid literal for int() with base 10: ''"
     ]
    }
   ],
   "source": [
    "f=int(input(\"Enter first page for midi\"))\n",
    "n=int(input(\"Enter last page for bitmidi\"))"
   ]
  },
  {
   "cell_type": "code",
   "execution_count": 13,
   "id": "25cf1b04",
   "metadata": {},
   "outputs": [],
   "source": [
    "url=\"https://bitmidi.com/\""
   ]
  },
  {
   "cell_type": "code",
   "execution_count": null,
   "id": "93eb659a",
   "metadata": {},
   "outputs": [],
   "source": [
    "all_pages_links=[]\n",
    "\n",
    "for i in range(f-1,n):\n",
    "    all_pages_links.append(os.path.join(url,f\"?page={i}\"))\n"
   ]
  },
  {
   "cell_type": "code",
   "execution_count": 15,
   "id": "cb4fa85a",
   "metadata": {},
   "outputs": [
    {
     "data": {
      "text/plain": [
       "['https://bitmidi.com/?page=0',\n",
       " 'https://bitmidi.com/?page=1',\n",
       " 'https://bitmidi.com/?page=2',\n",
       " 'https://bitmidi.com/?page=3',\n",
       " 'https://bitmidi.com/?page=4']"
      ]
     },
     "execution_count": 15,
     "metadata": {},
     "output_type": "execute_result"
    }
   ],
   "source": [
    "all_pages_links"
   ]
  },
  {
   "cell_type": "code",
   "execution_count": 16,
   "id": "da97fda2",
   "metadata": {},
   "outputs": [],
   "source": [
    "def page_no_wise(url):\n",
    "    htm_cod=web(url)\n",
    "    down=htm(htm_cod)\n",
    "    download(down)"
   ]
  },
  {
   "cell_type": "code",
   "execution_count": 17,
   "id": "2305bb73",
   "metadata": {},
   "outputs": [
    {
     "ename": "KeyboardInterrupt",
     "evalue": "",
     "output_type": "error",
     "traceback": [
      "\u001b[0;31m---------------------------------------------------------------------------\u001b[0m",
      "\u001b[0;31mKeyboardInterrupt\u001b[0m                         Traceback (most recent call last)",
      "Cell \u001b[0;32mIn[17], line 2\u001b[0m\n\u001b[1;32m      1\u001b[0m \u001b[38;5;28;01mfor\u001b[39;00m i \u001b[38;5;129;01min\u001b[39;00m all_pages_links:\n\u001b[0;32m----> 2\u001b[0m     \u001b[43mpage_no_wise\u001b[49m\u001b[43m(\u001b[49m\u001b[43mi\u001b[49m\u001b[43m)\u001b[49m\n",
      "Cell \u001b[0;32mIn[16], line 4\u001b[0m, in \u001b[0;36mpage_no_wise\u001b[0;34m(url)\u001b[0m\n\u001b[1;32m      2\u001b[0m htm_cod\u001b[38;5;241m=\u001b[39mweb(url)\n\u001b[1;32m      3\u001b[0m down\u001b[38;5;241m=\u001b[39mhtm(htm_cod)\n\u001b[0;32m----> 4\u001b[0m \u001b[43mdownload\u001b[49m\u001b[43m(\u001b[49m\u001b[43mdown\u001b[49m\u001b[43m)\u001b[49m\n",
      "Cell \u001b[0;32mIn[12], line 23\u001b[0m, in \u001b[0;36mdownload\u001b[0;34m(lis)\u001b[0m\n\u001b[1;32m     21\u001b[0m time\u001b[38;5;241m.\u001b[39msleep(\u001b[38;5;241m2\u001b[39m)\n\u001b[1;32m     22\u001b[0m driver\u001b[38;5;241m.\u001b[39mfind_element(By\u001b[38;5;241m.\u001b[39mXPATH,\u001b[38;5;124m\"\u001b[39m\u001b[38;5;124m/html/body/div/div/main/div[1]/div[4]/div[2]/p/a\u001b[39m\u001b[38;5;124m\"\u001b[39m)\u001b[38;5;241m.\u001b[39mclick()\n\u001b[0;32m---> 23\u001b[0m \u001b[43mtime\u001b[49m\u001b[38;5;241;43m.\u001b[39;49m\u001b[43msleep\u001b[49m\u001b[43m(\u001b[49m\u001b[38;5;241;43m2\u001b[39;49m\u001b[43m)\u001b[49m\n",
      "\u001b[0;31mKeyboardInterrupt\u001b[0m: "
     ]
    }
   ],
   "source": [
    "for i in all_pages_links:\n",
    "    page_no_wise(i)"
   ]
  }
 ],
 "metadata": {
  "kernelspec": {
   "display_name": "rpa",
   "language": "python",
   "name": "python3"
  },
  "language_info": {
   "codemirror_mode": {
    "name": "ipython",
    "version": 3
   },
   "file_extension": ".py",
   "mimetype": "text/x-python",
   "name": "python",
   "nbconvert_exporter": "python",
   "pygments_lexer": "ipython3",
   "version": "3.9.21"
  }
 },
 "nbformat": 4,
 "nbformat_minor": 5
}
